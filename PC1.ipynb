{
  "nbformat": 4,
  "nbformat_minor": 0,
  "metadata": {
    "colab": {
      "provenance": [],
      "include_colab_link": true
    },
    "kernelspec": {
      "name": "python3",
      "display_name": "Python 3"
    },
    "language_info": {
      "name": "python"
    },
    "widgets": {
      "application/vnd.jupyter.widget-state+json": {
        "d4691835f4474884829213796343340f": {
          "model_module": "faerun-notebook",
          "model_name": "SmilesDrawerModel",
          "model_module_version": "^0.1.5",
          "state": {
            "_dom_classes": [],
            "_model_module": "faerun-notebook",
            "_model_module_version": "^0.1.5",
            "_model_name": "SmilesDrawerModel",
            "_view_count": null,
            "_view_module": "faerun-notebook",
            "_view_module_version": "^0.1.5",
            "_view_name": "SmilesDrawerView",
            "background": "#1e1e1e",
            "border": true,
            "layout": "IPY_MODEL_35b7ce94b6e84d4c985918e50984dcd7",
            "options": {
              "scale": 1.25
            },
            "output": "svg",
            "theme": "dark",
            "value": [
              [
                "Rxn",
                "C(C1C(C(C(C(O1)O)O)O)O)O.O=O>>C(=O)=O.O"
              ]
            ]
          }
        },
        "35b7ce94b6e84d4c985918e50984dcd7": {
          "model_module": "@jupyter-widgets/base",
          "model_name": "LayoutModel",
          "model_module_version": "1.2.0",
          "state": {
            "_model_module": "@jupyter-widgets/base",
            "_model_module_version": "1.2.0",
            "_model_name": "LayoutModel",
            "_view_count": null,
            "_view_module": "@jupyter-widgets/base",
            "_view_module_version": "1.2.0",
            "_view_name": "LayoutView",
            "align_content": null,
            "align_items": null,
            "align_self": null,
            "border": null,
            "bottom": null,
            "display": null,
            "flex": null,
            "flex_flow": null,
            "grid_area": null,
            "grid_auto_columns": null,
            "grid_auto_flow": null,
            "grid_auto_rows": null,
            "grid_column": null,
            "grid_gap": null,
            "grid_row": null,
            "grid_template_areas": null,
            "grid_template_columns": null,
            "grid_template_rows": null,
            "height": null,
            "justify_content": null,
            "justify_items": null,
            "left": null,
            "margin": null,
            "max_height": null,
            "max_width": null,
            "min_height": null,
            "min_width": null,
            "object_fit": null,
            "object_position": null,
            "order": null,
            "overflow": null,
            "overflow_x": null,
            "overflow_y": null,
            "padding": null,
            "right": null,
            "top": null,
            "visibility": null,
            "width": null
          }
        }
      }
    }
  },
  "cells": [
    {
      "cell_type": "markdown",
      "metadata": {
        "id": "view-in-github",
        "colab_type": "text"
      },
      "source": [
        "<a href=\"https://colab.research.google.com/github/LuisFerCuadros/Quimica/blob/main/PC1.ipynb\" target=\"_parent\"><img src=\"https://colab.research.google.com/assets/colab-badge.svg\" alt=\"Open In Colab\"/></a>"
      ]
    },
    {
      "cell_type": "markdown",
      "source": [
        "$$\\Large \\textit{UNMSM | Química}$$\n",
        "$$\\large \\textbf{PC Nº1 | Materia y clasificación}$$\n",
        "\n",
        "_Profesor: Jesus Alvarado Huayhuaz_"
      ],
      "metadata": {
        "id": "sDJAjbaQOj4x"
      }
    },
    {
      "cell_type": "markdown",
      "source": [
        "Todas las indicaciones para la presentación de la práctica son explicadas en clase y brindadas en el material de enunciado de preguntas en formato PDF."
      ],
      "metadata": {
        "id": "_DsTzWLoP7Fy"
      }
    },
    {
      "cell_type": "markdown",
      "source": [
        "## Pregunta 1: Sobre el ABC de python (4 puntos)"
      ],
      "metadata": {
        "id": "obD7c2igOD6t"
      }
    },
    {
      "cell_type": "markdown",
      "source": [
        "Durante la semana de revisión del material \"ABC de python\", reflexiona sobre qué conceptos aprendiste con claridad y cuáles consideras los más desafiantes. A continuación resuelve los siguiente ejercicios, puedes ayudarte del material en http://bit.ly/3YKICSZ."
      ],
      "metadata": {
        "id": "emt93S7dL7QH"
      }
    },
    {
      "cell_type": "code",
      "source": [
        "# Imprime la versión de python que usas y las palabras reservadas de python para esa versión."
      ],
      "metadata": {
        "id": "6mJvqMN0LTU8"
      },
      "execution_count": null,
      "outputs": []
    },
    {
      "cell_type": "code",
      "source": [
        "!python --version"
      ],
      "metadata": {
        "id": "072ygn00Vswp"
      },
      "execution_count": null,
      "outputs": []
    },
    {
      "cell_type": "code",
      "source": [
        "# Crea una matriz de 3x3 e imprime la suma de los elementos en su diagonal (traza)."
      ],
      "metadata": {
        "id": "MxDzGypdLTXh"
      },
      "execution_count": null,
      "outputs": []
    },
    {
      "cell_type": "code",
      "source": [
        "matriz = []\n",
        "for i in range(3):\n",
        "    fila = []\n",
        "    for j in range(3):\n",
        "        numero = int(input(f\"Ingrese el número en la posición ({i+1}, {j+1}): \"))\n",
        "        fila.append(numero)\n",
        "    matriz.append(fila)\n",
        "suma_diagonal = sum(matriz[i][i] for i in range(3))\n",
        "print(\"Matriz 3x3:\")\n",
        "for fila in matriz:\n",
        "    print(fila)\n",
        "print(f\"Suma de la diagonal: {suma_diagonal}\")"
      ],
      "metadata": {
        "id": "dvL4NdUOLVLH"
      },
      "execution_count": null,
      "outputs": []
    },
    {
      "cell_type": "code",
      "source": [
        "# Guarda como variable la masa atómica de los elementos C, H y O, e imprime la masa molecular del etanol."
      ],
      "metadata": {
        "id": "MyhNX7JmLTSe"
      },
      "execution_count": null,
      "outputs": []
    },
    {
      "cell_type": "code",
      "source": [
        "masa_carbono = float(12.011)\n",
        "masa_oxigeno = float(15.999)\n",
        "masa_hidrogeno = float(1.00784)\n",
        "masa_etanol= masa_carbono*2 + masa_oxigeno*1 + masa_hidrogeno*6\n",
        "print(f\"La masa del etanol es {masa_etanol}\")"
      ],
      "metadata": {
        "id": "DJnaDB75LSmV"
      },
      "execution_count": null,
      "outputs": []
    },
    {
      "cell_type": "code",
      "source": [
        "# Busca la temperatura de fusión en Celsius de 5 metales y guárdalos en una lista. Imprime las temperaturas en Kelvin"
      ],
      "metadata": {
        "id": "NCOnJ0FwgLLc"
      },
      "execution_count": null,
      "outputs": []
    },
    {
      "cell_type": "code",
      "source": [
        "metales = [\"Hierro\", \"Cobre\", \"Aluminio\", \"Plomo\", \"Zinc\"]\n",
        "temperaturas_celsius = [1538, 1085, 660.3, 327.5, 419.5]\n",
        "def celsius_a_kelvin(celsius):\n",
        "    return celsius + 273.15\n",
        "print(\"Temperaturas de fusión en Kelvin:\")\n",
        "for metal, temperatura_c in zip(metales, temperaturas_celsius):\n",
        "    temperatura_k = celsius_a_kelvin(temperatura_c)\n",
        "    print(f\"{metal}: {temperatura_k:.2f} K\")"
      ],
      "metadata": {
        "id": "AqBuCapoFNl9"
      },
      "execution_count": null,
      "outputs": []
    },
    {
      "cell_type": "markdown",
      "source": [
        "## Pregunta 2: Operaciones (4 puntos)"
      ],
      "metadata": {
        "id": "epzOadagLfPi"
      }
    },
    {
      "cell_type": "markdown",
      "source": [
        "Escribe un programa que lea repetidamente elementos químicos en español hasta que el usuario introduzca “fin”. Una vez se haya introducido “fin”, muestra por pantalla (o sea imprime) el total de elementos ingresados. Si el usuario introduce cualquier otra cosa que no sea un elemento químico, detecta su fallo usando try y except, muestra un mensaje de error y pasa al siguiente elemento."
      ],
      "metadata": {
        "id": "MbAEOGPsjOWZ"
      }
    },
    {
      "cell_type": "code",
      "source": [
        "elementos_quimicos = set()\n",
        "while True:\n",
        "    elemento = str(input(\"Ingrese un elemento químico (o 'fin' para terminar): \"))\n",
        "    if elemento.lower() == 'fin':\n",
        "        break\n",
        "    try:\n",
        "        if elemento:\n",
        "            elementos_quimicos.add(elemento)\n",
        "    except:\n",
        "        print(\"Error: No es un elemento químico válido.\")\n",
        "print(f\"Total de elementos ingresados: {len(elementos_quimicos)}\")"
      ],
      "metadata": {
        "id": "gJGX0p5QLetj"
      },
      "execution_count": null,
      "outputs": []
    },
    {
      "cell_type": "markdown",
      "source": [
        "# Pregunta 3: Conservación de la masa (4 puntos)"
      ],
      "metadata": {
        "id": "8gxSHpD3LZsh"
      }
    },
    {
      "cell_type": "markdown",
      "source": [
        "### Código necesario para generar la imagen"
      ],
      "metadata": {
        "id": "mMV9c3hDl7KL"
      }
    },
    {
      "cell_type": "code",
      "source": [
        "!pip install faerun-notebook==0.1.5b0\n",
        "\n",
        "import ipywidgets as widgets\n",
        "from faerun_notebook import SmilesDrawer\n",
        "from google.colab import output\n",
        "output.enable_custom_widget_manager()"
      ],
      "metadata": {
        "id": "JgF8Ohtbky65"
      },
      "execution_count": null,
      "outputs": []
    },
    {
      "cell_type": "code",
      "source": [
        "!pip install rdkit"
      ],
      "metadata": {
        "id": "UwVw9Ib7IiKk"
      },
      "execution_count": null,
      "outputs": []
    },
    {
      "cell_type": "markdown",
      "source": [
        "### Reacción química"
      ],
      "metadata": {
        "id": "5sLC10D_oSrV"
      }
    },
    {
      "cell_type": "markdown",
      "source": [
        "Demuestra cómo se cumple la conservación de la masa en la siguiente reacción química. Sugerencia: hacer un balance estequiométrico y luego emplear la masa molecular de reactivos y productos."
      ],
      "metadata": {
        "id": "OVRhAzaVmD86"
      }
    },
    {
      "cell_type": "code",
      "source": [
        "SmilesDrawer(value=[(\"Rxn\", \"C(C1C(C(C(C(O1)O)O)O)O)O.O=O>>C(=O)=O.O\")], theme='dark', background=\"#1e1e1e\", options={'scale': 1.25})"
      ],
      "metadata": {
        "colab": {
          "base_uri": "https://localhost:8080/",
          "height": 289,
          "referenced_widgets": [
            "d4691835f4474884829213796343340f",
            "35b7ce94b6e84d4c985918e50984dcd7"
          ]
        },
        "id": "CC0mAXWmnYyN",
        "outputId": "fb9a2a33-11fa-47cd-bffe-ce9c285db1d8"
      },
      "execution_count": null,
      "outputs": [
        {
          "output_type": "display_data",
          "data": {
            "text/plain": [
              "SmilesDrawer(background='#1e1e1e', options={'scale': 1.25}, theme='dark', value=[('Rxn', 'C(C1C(C(C(C(O1)O)O)O…"
            ],
            "application/vnd.jupyter.widget-view+json": {
              "version_major": 2,
              "version_minor": 0,
              "model_id": "d4691835f4474884829213796343340f"
            }
          },
          "metadata": {
            "application/vnd.jupyter.widget-view+json": {
              "colab": {
                "custom_widget_manager": {
                  "url": "https://ssl.gstatic.com/colaboratory-static/widgets/colab-cdn-widget-manager/b3e629b1971e1542/manager.min.js"
                }
              }
            }
          }
        }
      ]
    },
    {
      "cell_type": "markdown",
      "source": [
        "## Pregunta 4: Notación científica (4 puntos)"
      ],
      "metadata": {
        "id": "Rh-nAUiKhJNB"
      }
    },
    {
      "cell_type": "markdown",
      "source": [
        "Imprime las siguientes operaciones según la notación científica:\n",
        "\n",
        "(1) $1.321 \\times 10^{-4} + 8.5 \\times 10^{-2}$\n",
        "\n",
        "(2) $1.71 \\times 10^{3} - 2.01 \\times 10^{2}\\$\n",
        "\n",
        "(3) $(7.4 \\times 10^5)(7.2 \\times 10^4)$\n",
        "\n",
        "(4) $(7.4 \\times 10^5)/(7.2 \\times 10^4)$"
      ],
      "metadata": {
        "id": "NIkI45Xdqqnt"
      }
    },
    {
      "cell_type": "code",
      "source": [
        "a = 1.321e-4 + 8.5e-2\n",
        "print(round(a,1))"
      ],
      "metadata": {
        "id": "ikNp6zTIdr4W"
      },
      "execution_count": null,
      "outputs": []
    },
    {
      "cell_type": "code",
      "source": [
        "b = 1.71e3 - 2.01e2\n",
        "print(round(b,2))"
      ],
      "metadata": {
        "id": "BZH6aIkNdtvw"
      },
      "execution_count": null,
      "outputs": []
    },
    {
      "cell_type": "code",
      "source": [
        "c = 7.4e5 * 7.2e4\n",
        "print(c)"
      ],
      "metadata": {
        "id": "7M-urXfU62q4"
      },
      "execution_count": null,
      "outputs": []
    },
    {
      "cell_type": "code",
      "source": [
        "d = 7.4e5 / 7.2e4\n",
        "print(d)"
      ],
      "metadata": {
        "id": "XdP--HrU63IA"
      },
      "execution_count": null,
      "outputs": []
    },
    {
      "cell_type": "markdown",
      "source": [
        "## Pregunta 5: Método científico (4 puntos)"
      ],
      "metadata": {
        "id": "CuzCcXJghR14"
      }
    },
    {
      "cell_type": "markdown",
      "source": [
        "Artículo: https://bit.ly/3surZ1W\n",
        "Leer el siguiente artículo y explica cómo es aplicado el método científico. Emplea como máximo 300 palabras."
      ],
      "metadata": {
        "id": "WngRSR-Rhmx1"
      }
    },
    {
      "cell_type": "markdown",
      "source": [
        "Una nueva empresa en Seúl, publicó preimpresiones.1,2 afirmando que LK-99 es un superconductor a presión normal y a temperaturas de hasta al menos 127 °C (400 kelvin), si solo los superconductores funcionan sólo a temperaturas muy bajas y presiones extremas.\n",
        "¿Cómo es esto posible?\n",
        "VanGennep pensó que era más probable que las propiedades de LK-99 fueran el resultado del ferromagnetismo.\n",
        "Otra hipótesis fue que por cada parte que produce de cristal de fosfato de plomo dopado con cobre (LK-99 puro), produce 17 partes de cobre y 5 partes de azufre. Estos restos dan lugar a numerosas impurezas, especialmente sulfuro de cobre (Cu2S)\n",
        "VanGennep construyó una bolita de virutas de grafito comprimido con limaduras de hierro pegadas. La bolita experimenta una fuerza de elevación, pero no es suficiente para levitar, sólo para equilibrarse en un extremo.\n",
        "En un primer registro Li y sus colegas midieron la resistividad de su muestra y no encontraron signos de superconductividad. Pero no pudieron explicar la fuerte caída de la resistividad observada por el equipo surcoreano.\n",
        "Debido a las impurezas del Cu2S hacía que este elevara su temperatura utilizando una técnica llamada crecimiento de cristales en zona flotante. Esto permitió a los investigadores evitar la introducción de azufre en la reacción, eliminando así el Cu.2S impurezas.\n",
        "La conclusión fue que el LK-99 no es un superconductor sino un aislante con una resistencia con millones de ohmios ya que muestra ferromagnetismo y diamagnetismo menores, pero no lo suficiente como para una levitación ni siquiera parcial\n"
      ],
      "metadata": {
        "id": "z3896XY4D7y2"
      }
    }
  ]
}
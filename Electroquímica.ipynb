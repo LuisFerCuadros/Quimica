{
  "nbformat": 4,
  "nbformat_minor": 0,
  "metadata": {
    "colab": {
      "provenance": [],
      "authorship_tag": "ABX9TyOjl1Fpq1blL1x2dxQwQGR0",
      "include_colab_link": true
    },
    "kernelspec": {
      "name": "python3",
      "display_name": "Python 3"
    },
    "language_info": {
      "name": "python"
    }
  },
  "cells": [
    {
      "cell_type": "markdown",
      "metadata": {
        "id": "view-in-github",
        "colab_type": "text"
      },
      "source": [
        "<a href=\"https://colab.research.google.com/github/LuisFerCuadros/Quimica/blob/main/Electroqu%C3%ADmica.ipynb\" target=\"_parent\"><img src=\"https://colab.research.google.com/assets/colab-badge.svg\" alt=\"Open In Colab\"/></a>"
      ]
    },
    {
      "cell_type": "code",
      "execution_count": null,
      "metadata": {
        "colab": {
          "base_uri": "https://localhost:8080/"
        },
        "id": "lgkD3MyyJD36",
        "outputId": "55aeb2e6-cb97-4907-eba5-5bd66f0103ef"
      },
      "outputs": [
        {
          "output_type": "stream",
          "name": "stdout",
          "text": [
            "Ingrese los reactantes (ingrese 'fin' para terminar):\n"
          ]
        }
      ],
      "source": [
        "def ingresar_elemento():\n",
        "    elemento = input(\"Ingrese un elemento (o 'fin' para terminar): \")\n",
        "    if elemento.lower() == 'fin':\n",
        "        return None\n",
        "    estado_oxidacion = int(input(f\"Ingrese el estado de oxidación para {elemento}: \"))\n",
        "    return elemento, estado_oxidacion\n",
        "\n",
        "def obtener_lista_elementos():\n",
        "    lista_elementos = []\n",
        "\n",
        "    while True:\n",
        "        elemento = ingresar_elemento()\n",
        "\n",
        "        if elemento is None:\n",
        "            break\n",
        "\n",
        "        lista_elementos.append(elemento)\n",
        "\n",
        "    return lista_elementos\n",
        "\n",
        "\n",
        "print(\"Ingrese los reactantes (ingrese 'fin' para terminar):\")\n",
        "reactantes = obtener_lista_elementos()\n",
        "\n",
        "\n",
        "print(\"Ingrese los productos (ingrese 'fin' para terminar):\")\n",
        "productos = obtener_lista_elementos()\n",
        "\n",
        "\n",
        "print(\"\\nReactantes:\", \" + \".join([f\"{elemento}^{{{estado}}}\" for elemento, estado in reactantes]))\n",
        "print(\"Productos:\", \" + \".join([f\"{elemento}^{{{estado}}}\" for elemento, estado in productos]))\n",
        "\n",
        "\n",
        "cambios_estado_oxidacion = []\n",
        "\n",
        "for reactante, producto in zip(reactantes, productos):\n",
        "    elemento_reactante, estado_reactante = reactante\n",
        "    elemento_producto, estado_producto = producto\n",
        "\n",
        "    if estado_reactante < estado_producto:\n",
        "        diferencia_electrones = estado_producto - estado_reactante\n",
        "        cambio = f\"oxidación: {elemento_reactante}^{{{estado_reactante}}}  -> {elemento_producto}^{{{estado_producto}}} + {diferencia_electrones}e-\"\n",
        "        cambios_estado_oxidacion.append(cambio)\n",
        "    elif estado_reactante > estado_producto:\n",
        "        diferencia_electrones = estado_reactante - estado_producto\n",
        "        cambio = f\"reducción: {elemento_reactante}^{{{estado_reactante}}} + {diferencia_electrones}e- -> {elemento_producto}^{{{estado_producto}}}\"\n",
        "        cambios_estado_oxidacion.append(cambio)\n",
        "\n",
        "print(\"\\nSemirreacciones de oxidación y reducción:\")\n",
        "for cambio in cambios_estado_oxidacion:\n",
        "    print(cambio)\n"
      ]
    }
  ]
}